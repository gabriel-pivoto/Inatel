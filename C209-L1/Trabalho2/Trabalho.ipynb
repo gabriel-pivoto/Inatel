{
 "cells": [
  {
   "cell_type": "code",
   "execution_count": 3,
   "metadata": {},
   "outputs": [
    {
     "ename": "ModuleNotFoundError",
     "evalue": "No module named 'moviepy.editor'",
     "output_type": "error",
     "traceback": [
      "\u001b[1;31m---------------------------------------------------------------------------\u001b[0m",
      "\u001b[1;31mModuleNotFoundError\u001b[0m                       Traceback (most recent call last)",
      "Cell \u001b[1;32mIn[3], line 2\u001b[0m\n\u001b[0;32m      1\u001b[0m \u001b[38;5;66;03m#Bibliotecas\u001b[39;00m\n\u001b[1;32m----> 2\u001b[0m \u001b[38;5;28;01mimport\u001b[39;00m \u001b[38;5;21;01mmoviepy\u001b[39;00m\u001b[38;5;21;01m.\u001b[39;00m\u001b[38;5;21;01meditor\u001b[39;00m \u001b[38;5;28;01mas\u001b[39;00m \u001b[38;5;21;01mmpe\u001b[39;00m\n\u001b[0;32m      3\u001b[0m \u001b[38;5;28;01mimport\u001b[39;00m \u001b[38;5;21;01mnumpy\u001b[39;00m \u001b[38;5;28;01mas\u001b[39;00m \u001b[38;5;21;01mnp\u001b[39;00m\n\u001b[0;32m      4\u001b[0m \u001b[38;5;28;01mfrom\u001b[39;00m \u001b[38;5;21;01mmoviepy\u001b[39;00m\u001b[38;5;21;01m.\u001b[39;00m\u001b[38;5;21;01meditor\u001b[39;00m \u001b[38;5;28;01mimport\u001b[39;00m VideoFileClip\n",
      "\u001b[1;31mModuleNotFoundError\u001b[0m: No module named 'moviepy.editor'"
     ]
    }
   ],
   "source": [
    "#Bibliotecas\n",
    "import moviepy.editor as mpe\n",
    "import numpy as np\n",
    "from moviepy.editor import VideoFileClip"
   ]
  },
  {
   "cell_type": "code",
   "execution_count": 4,
   "metadata": {},
   "outputs": [],
   "source": [
    "video = mpe.VideoFileClip(\"123.mp4\")"
   ]
  },
  {
   "cell_type": "code",
   "execution_count": null,
   "metadata": {},
   "outputs": [
    {
     "name": "stdout",
     "output_type": "stream",
     "text": [
      "Moviepy - Building video invertido_video.mp4.\n",
      "MoviePy - Writing audio in invertido_videoTEMP_MPY_wvf_snd.mp4\n"
     ]
    },
    {
     "name": "stderr",
     "output_type": "stream",
     "text": [
      "                                                                      \r"
     ]
    },
    {
     "name": "stdout",
     "output_type": "stream",
     "text": [
      "MoviePy - Done.\n",
      "Moviepy - Writing video invertido_video.mp4\n",
      "\n"
     ]
    },
    {
     "name": "stderr",
     "output_type": "stream",
     "text": [
      "                                                                \r"
     ]
    },
    {
     "name": "stdout",
     "output_type": "stream",
     "text": [
      "Moviepy - Done !\n",
      "Moviepy - video ready invertido_video.mp4\n"
     ]
    }
   ],
   "source": [
    "# Definir a função para inverter a imagem a cada 20 segundos\n",
    "def inverter(gf, t):\n",
    "    if int(t // 20) % 2 == 1:  \n",
    "        return np.flipud(gf(t))  \n",
    "    else:\n",
    "        return gf(t)  \n",
    "    \n",
    "flipped_video = video.fl(lambda gf, t: inverter(gf, t))\n",
    "\n",
    "flipped_video.write_videofile(\"invertido_video.mp4\", codec=\"libx264\", audio_codec=\"aac\")"
   ]
  },
  {
   "cell_type": "code",
   "execution_count": 4,
   "metadata": {},
   "outputs": [],
   "source": [
    "video = mpe.VideoFileClip(\"invertido_video.mp4\")"
   ]
  },
  {
   "cell_type": "code",
   "execution_count": null,
   "metadata": {},
   "outputs": [
    {
     "name": "stdout",
     "output_type": "stream",
     "text": [
      "Moviepy - Building video video_com_silencio.mp4.\n",
      "MoviePy - Writing audio in video_com_silencioTEMP_MPY_wvf_snd.mp4\n"
     ]
    },
    {
     "name": "stderr",
     "output_type": "stream",
     "text": [
      "                                                                      \r"
     ]
    },
    {
     "name": "stdout",
     "output_type": "stream",
     "text": [
      "MoviePy - Done.\n",
      "Moviepy - Writing video video_com_silencio.mp4\n",
      "\n"
     ]
    },
    {
     "name": "stderr",
     "output_type": "stream",
     "text": [
      "                                                                \r"
     ]
    },
    {
     "name": "stdout",
     "output_type": "stream",
     "text": [
      "Moviepy - Done !\n",
      "Moviepy - video ready video_com_silencio.mp4\n"
     ]
    }
   ],
   "source": [
    "#Diminiur o som, de forma gradativa, a cada 30 segundos, de forma que os últimos 10 segundos fique em silêncio (sem som)\n",
    "def tirando_audio(audio, t, video_duration):\n",
    "    frame = audio(t)  \n",
    "    \n",
    "    t = t if isinstance(t, (int, float)) else t[0]\n",
    "\n",
    "    reduction_factor = 1 - min(t / video_duration, 1)  \n",
    "   \n",
    "    if video_duration - t <= 10:\n",
    "        reduction_factor = 0 \n",
    "    \n",
    "    frame[:, 0] *= reduction_factor\n",
    "    frame[:, 1] *= reduction_factor\n",
    "    \n",
    "    return frame\n",
    "\n",
    "video_duration = video.duration  \n",
    "\n",
    "def apply_audio_decrease(audio, t):\n",
    "    return tirando_audio(audio, t, video_duration)\n",
    "\n",
    "audio_decrease = video.audio.fl(apply_audio_decrease)\n",
    "video_audio_decrease = video.set_audio(tirando_audio)\n",
    "\n",
    "video_audio_decrease.write_videofile(\"video_com_silencio.mp4\", codec=\"libx264\", audio_codec=\"aac\")\n"
   ]
  },
  {
   "cell_type": "code",
   "execution_count": 6,
   "metadata": {},
   "outputs": [],
   "source": [
    "video = mpe.VideoFileClip(\"video_com_silencio.mp4\")"
   ]
  },
  {
   "cell_type": "code",
   "execution_count": 5,
   "metadata": {},
   "outputs": [
    {
     "name": "stdout",
     "output_type": "stream",
     "text": [
      "Duração: 195.65 segundos\n"
     ]
    }
   ],
   "source": [
    "print('Duração:', video.duration, 'segundos')"
   ]
  },
  {
   "cell_type": "code",
   "execution_count": null,
   "metadata": {},
   "outputs": [
    {
     "name": "stdout",
     "output_type": "stream",
     "text": [
      "Moviepy - Building video video_parts.mp4.\n",
      "MoviePy - Writing audio in video_partsTEMP_MPY_wvf_snd.mp3\n"
     ]
    },
    {
     "name": "stderr",
     "output_type": "stream",
     "text": [
      "                                                                      \r"
     ]
    },
    {
     "name": "stdout",
     "output_type": "stream",
     "text": [
      "MoviePy - Done.\n",
      "Moviepy - Writing video video_parts.mp4\n",
      "\n"
     ]
    },
    {
     "name": "stderr",
     "output_type": "stream",
     "text": [
      "                                                                \r"
     ]
    },
    {
     "name": "stdout",
     "output_type": "stream",
     "text": [
      "Moviepy - Done !\n",
      "Moviepy - video ready video_parts.mp4\n"
     ]
    }
   ],
   "source": [
    "#Após o primeiro minuto, 60 segundos, fazer um corte para o segundo 80 \n",
    "part_1 = video.subclip(0, 60)\n",
    "part_retirada = video.subclip(60, 80)\n",
    "part_2 = video.subclip(80, 195.65)\n",
    "\n",
    "parts = mpe.concatenate_videoclips([part_1, part_2])\n",
    "parts.write_videofile('video_parts.mp4')"
   ]
  },
  {
   "cell_type": "code",
   "execution_count": 9,
   "metadata": {},
   "outputs": [
    {
     "name": "stdout",
     "output_type": "stream",
     "text": [
      "Moviepy - Building video video_Final.mp4.\n",
      "MoviePy - Writing audio in video_FinalTEMP_MPY_wvf_snd.mp3\n"
     ]
    },
    {
     "name": "stderr",
     "output_type": "stream",
     "text": [
      "                                                                      \r"
     ]
    },
    {
     "name": "stdout",
     "output_type": "stream",
     "text": [
      "MoviePy - Done.\n",
      "Moviepy - Writing video video_Final.mp4\n",
      "\n"
     ]
    },
    {
     "name": "stderr",
     "output_type": "stream",
     "text": [
      "                                                                \r"
     ]
    },
    {
     "name": "stdout",
     "output_type": "stream",
     "text": [
      "Moviepy - Done !\n",
      "Moviepy - video ready video_Final.mp4\n"
     ]
    }
   ],
   "source": [
    "#Por fim, insira os 20 segundos cortados acima no fim do video\n",
    "parts = mpe.concatenate_videoclips([part_1, part_2,part_retirada])\n",
    "parts.write_videofile('video_Final.mp4')\n"
   ]
  }
 ],
 "metadata": {
  "kernelspec": {
   "display_name": "Python 3",
   "language": "python",
   "name": "python3"
  },
  "language_info": {
   "codemirror_mode": {
    "name": "ipython",
    "version": 3
   },
   "file_extension": ".py",
   "mimetype": "text/x-python",
   "name": "python",
   "nbconvert_exporter": "python",
   "pygments_lexer": "ipython3",
   "version": "3.11.9"
  }
 },
 "nbformat": 4,
 "nbformat_minor": 2
}
